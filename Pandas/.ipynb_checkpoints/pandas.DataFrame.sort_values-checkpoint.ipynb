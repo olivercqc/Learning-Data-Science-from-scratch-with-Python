{
 "cells": [
  {
   "cell_type": "code",
   "execution_count": 2,
   "metadata": {},
   "outputs": [],
   "source": [
    "import pandas as pd\n",
    "import numpy as np"
   ]
  },
  {
   "cell_type": "code",
   "execution_count": 8,
   "metadata": {},
   "outputs": [
    {
     "name": "stdout",
     "output_type": "stream",
     "text": [
      "  col1  col2  col3\n",
      "0    A     2     0\n",
      "1    A     1     1\n",
      "2    B     9     9\n",
      "3  NaN     8     4\n",
      "4    D     7     2\n",
      "5    C     4     3\n"
     ]
    }
   ],
   "source": [
    "df = pd.DataFrame({\n",
    "    'col1' : ['A', 'A', 'B', np.nan, 'D', 'C'],\n",
    "    'col2' : [2, 1, 9, 8, 7, 4],\n",
    "    'col3' : [0, 1, 9, 4, 2, 3]\n",
    "})\n",
    "print(df)"
   ]
  },
  {
   "cell_type": "markdown",
   "metadata": {},
   "source": [
    "# Sort by a column"
   ]
  },
  {
   "cell_type": "code",
   "execution_count": 30,
   "metadata": {},
   "outputs": [
    {
     "name": "stdout",
     "output_type": "stream",
     "text": [
      "  col1  col2  col3\n",
      "0    A     2     0\n",
      "1    A     1     1\n",
      "2    B     9     9\n",
      "5    C     4     3\n",
      "4    D     7     2\n",
      "3  NaN     8     4\n"
     ]
    }
   ],
   "source": [
    "print(df.sort_values(by='col1'))"
   ]
  },
  {
   "cell_type": "markdown",
   "metadata": {},
   "source": [
    "# Sort by multiple columns"
   ]
  },
  {
   "cell_type": "code",
   "execution_count": 11,
   "metadata": {},
   "outputs": [
    {
     "name": "stdout",
     "output_type": "stream",
     "text": [
      "  col1  col2  col3\n",
      "1    A     1     1\n",
      "0    A     2     0\n",
      "2    B     9     9\n",
      "5    C     4     3\n",
      "4    D     7     2\n",
      "3  NaN     8     4\n"
     ]
    }
   ],
   "source": [
    "print(df.sort_values(by=['col1', 'col2']))"
   ]
  },
  {
   "cell_type": "markdown",
   "metadata": {},
   "source": [
    "# Sort by Descending/Asecending "
   ]
  },
  {
   "cell_type": "code",
   "execution_count": 17,
   "metadata": {},
   "outputs": [
    {
     "name": "stdout",
     "output_type": "stream",
     "text": [
      "  col1  col2  col3\n",
      "4    D     7     2\n",
      "5    C     4     3\n",
      "2    B     9     9\n",
      "0    A     2     0\n",
      "1    A     1     1\n",
      "3  NaN     8     4\n"
     ]
    }
   ],
   "source": [
    "print(df.sort_values(by='col1', ascending=False))"
   ]
  },
  {
   "cell_type": "code",
   "execution_count": 22,
   "metadata": {},
   "outputs": [
    {
     "name": "stdout",
     "output_type": "stream",
     "text": [
      "  col1  col2  col3\n",
      "0    A     2     0\n",
      "1    A     1     1\n",
      "2    B     9     9\n",
      "5    C     4     3\n",
      "4    D     7     2\n",
      "3  NaN     8     4\n"
     ]
    }
   ],
   "source": [
    "print(df.sort_values(by='col1', ascending=True))"
   ]
  },
  {
   "cell_type": "markdown",
   "metadata": {},
   "source": [
    "# Putting NAs first/last"
   ]
  },
  {
   "cell_type": "code",
   "execution_count": 20,
   "metadata": {},
   "outputs": [
    {
     "name": "stdout",
     "output_type": "stream",
     "text": [
      "  col1  col2  col3\n",
      "3  NaN     8     4\n",
      "4    D     7     2\n",
      "5    C     4     3\n",
      "2    B     9     9\n",
      "0    A     2     0\n",
      "1    A     1     1\n"
     ]
    }
   ],
   "source": [
    "print(df.sort_values(by='col1', ascending=False, na_position='first'))"
   ]
  },
  {
   "cell_type": "code",
   "execution_count": 21,
   "metadata": {},
   "outputs": [
    {
     "name": "stdout",
     "output_type": "stream",
     "text": [
      "  col1  col2  col3\n",
      "4    D     7     2\n",
      "5    C     4     3\n",
      "2    B     9     9\n",
      "0    A     2     0\n",
      "1    A     1     1\n",
      "3  NaN     8     4\n"
     ]
    }
   ],
   "source": [
    "print(df.sort_values(by='col1', ascending=False, na_position='last'))"
   ]
  }
 ],
 "metadata": {
  "kernelspec": {
   "display_name": "Python 3",
   "language": "python",
   "name": "python3"
  },
  "language_info": {
   "codemirror_mode": {
    "name": "ipython",
    "version": 3
   },
   "file_extension": ".py",
   "mimetype": "text/x-python",
   "name": "python",
   "nbconvert_exporter": "python",
   "pygments_lexer": "ipython3",
   "version": "3.6.4"
  }
 },
 "nbformat": 4,
 "nbformat_minor": 2
}
